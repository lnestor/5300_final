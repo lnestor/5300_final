{
 "cells": [
  {
   "cell_type": "markdown",
   "metadata": {},
   "source": [
    "# Gravitational Orbits\n",
    "\n",
    "Created 4-22-19 by Lucas Nestor  \n",
    "Revised 4-23-19 by Lucas Nestor"
   ]
  },
  {
   "cell_type": "markdown",
   "metadata": {},
   "source": [
    "In this notebook we will solve the equations of motion for two bodys affected only by gravity. The energies are given by the following:\n",
    "\n",
    "$\\quad T = \\frac{1}{2} m_1 (\\dot x_1^2 + \\dot y_1^2) + \\frac{1}{2} m_2 (\\dot x_2^2 + \\dot y_2^2)$\n",
    "\n",
    "$\\quad U = -\\frac{G m_1 m_2}{\\sqrt{(x_1 - x_2)^2 + (y_1 - y_2)^2}}$\n",
    "\n",
    "Solving the Lagrange equations yields the following:\n",
    "\n",
    "$\\quad m_1 \\ddot x_1 = - \\frac{G m_1 m_2 (x_1 - x_2)}{((x_1 - x_2)^2 + (y_1 - y_2)^2)^{3/2}}$\n",
    "\n",
    "$\\quad m_1 \\ddot y_1 = - \\frac{G m_1 m_2 (y_1 - y_2)}{((x_1 - x_2)^2 + (y_1 - y_2)^2)^{3/2}}$\n",
    "\n",
    "$\\quad m_2 \\ddot x_2 = \\frac{G m_1 m_2 (x_1 - x_2)}{((x_1 - x_2)^2 + (y_1 - y_2)^2)^{3/2}}$\n",
    "\n",
    "$\\quad m_2 \\ddot y_2 = \\frac{G m_1 m_2 (y_1 - y_2)}{((x_1 - x_2)^2 + (y_1 - y_2)^2)^{3/2}}$"
   ]
  },
  {
   "cell_type": "code",
   "execution_count": 6,
   "metadata": {},
   "outputs": [],
   "source": [
    "import numpy as np\n",
    "import matplotlib.pyplot as plt\n",
    "from scipy.integrate import solve_ivp"
   ]
  },
  {
   "cell_type": "code",
   "execution_count": 45,
   "metadata": {},
   "outputs": [],
   "source": [
    "class Orbit():\n",
    "    def __init__(self, m1=1, m2=1, G=1):\n",
    "        self.m1 = m1\n",
    "        self.m2 = m2\n",
    "        self.G = G\n",
    "    \n",
    "    def r12(self, y):\n",
    "        \"\"\"\n",
    "        Returns the relative distance between two particles.\n",
    "        \n",
    "        Parameters\n",
    "        ==========\n",
    "        y : float\n",
    "            a vector with y[0] = x1, y[1] = y1, y[2] = x2, y[3] = y2\n",
    "        \"\"\"\n",
    "        x1, y1, x2, y2 = y[0:4]\n",
    "        return np.sqrt((x1 - x2)**2 + (y1 - y2)**2)\n",
    "    \n",
    "    def dy_dt(self, t, y):\n",
    "        \"\"\"\n",
    "        Returns the RHS of the d^2x/dt^2 and d^2y/dt^2 for masses 1 and 2.\n",
    "        \n",
    "        Parameters\n",
    "        ==========\n",
    "        t : float\n",
    "            time\n",
    "        y : float\n",
    "            a vector with y[0] = x1, y[1] = y1, y[2] = x2, y[3] = y2\n",
    "            y[4] = dx1/dt, y[5] = dy1/dt, y[6] = dx2/dt, and y[7] = dy2/dt\n",
    "        \"\"\"\n",
    "        x1, y1, x2, y2 = y[0:4]\n",
    "        \n",
    "        dy_dt_vec = np.zeros(8)\n",
    "        dy_dt_vec[0:4] = y[4:8]\n",
    "        dy_dt_vec[4] = self.G * self.m2 * (x2 - x1) / self.r12(y)**3\n",
    "        dy_dt_vec[5] = self.G * self.m2 * (y2 - y1) / self.r12(y)**3\n",
    "        dy_dt_vec[6] = self.G * self.m1 * (x1 - x2) / self.r12(y)**3\n",
    "        dy_dt_vec[7] = self.G * self.m1 * (y1 - y2) / self.r12(y)**3\n",
    "        \n",
    "        return dy_dt_vec\n",
    "        \n",
    "    def solve_ode(self, t_pts, y_0, abserr=1.0e-10, relerr=1.0e-10):\n",
    "        return solve_ivp(self.dy_dt, (t_pts[0], t_pts[-1]), y_0, t_eval=t_pts, atol=abserr, rtol=relerr).y\n",
    "        "
   ]
  },
  {
   "cell_type": "markdown",
   "metadata": {},
   "source": [
    "# Various Orbits\n",
    "\n",
    "Now we will implement and view various different orbits."
   ]
  },
  {
   "cell_type": "code",
   "execution_count": 1,
   "metadata": {},
   "outputs": [
    {
     "ename": "NameError",
     "evalue": "name 'Orbit' is not defined",
     "output_type": "error",
     "traceback": [
      "\u001b[0;31m---------------------------------------------------------------------------\u001b[0m",
      "\u001b[0;31mNameError\u001b[0m                                 Traceback (most recent call last)",
      "\u001b[0;32m<ipython-input-1-84d428d2cdc8>\u001b[0m in \u001b[0;36m<module>\u001b[0;34m()\u001b[0m\n\u001b[1;32m     12\u001b[0m \u001b[0my0\u001b[0m \u001b[0;34m=\u001b[0m \u001b[0;34m[\u001b[0m\u001b[0mx1_0\u001b[0m\u001b[0;34m,\u001b[0m \u001b[0my1_0\u001b[0m\u001b[0;34m,\u001b[0m \u001b[0mx2_0\u001b[0m\u001b[0;34m,\u001b[0m \u001b[0my2_0\u001b[0m\u001b[0;34m,\u001b[0m \u001b[0mx1_dot_0\u001b[0m\u001b[0;34m,\u001b[0m \u001b[0my1_dot_0\u001b[0m\u001b[0;34m,\u001b[0m \u001b[0mx2_dot_0\u001b[0m\u001b[0;34m,\u001b[0m \u001b[0my2_dot_0\u001b[0m\u001b[0;34m]\u001b[0m\u001b[0;34m\u001b[0m\u001b[0m\n\u001b[1;32m     13\u001b[0m \u001b[0;34m\u001b[0m\u001b[0m\n\u001b[0;32m---> 14\u001b[0;31m \u001b[0morbit\u001b[0m \u001b[0;34m=\u001b[0m \u001b[0mOrbit\u001b[0m\u001b[0;34m(\u001b[0m\u001b[0mm1\u001b[0m\u001b[0;34m=\u001b[0m\u001b[0mm1\u001b[0m\u001b[0;34m,\u001b[0m \u001b[0mm2\u001b[0m\u001b[0;34m=\u001b[0m\u001b[0mm2\u001b[0m\u001b[0;34m)\u001b[0m\u001b[0;34m\u001b[0m\u001b[0m\n\u001b[0m\u001b[1;32m     15\u001b[0m \u001b[0;34m\u001b[0m\u001b[0m\n\u001b[1;32m     16\u001b[0m \u001b[0mt_pts\u001b[0m \u001b[0;34m=\u001b[0m \u001b[0mnp\u001b[0m\u001b[0;34m.\u001b[0m\u001b[0marange\u001b[0m\u001b[0;34m(\u001b[0m\u001b[0;36m0\u001b[0m\u001b[0;34m,\u001b[0m \u001b[0;36m120.\u001b[0m\u001b[0;34m,\u001b[0m \u001b[0;36m0.01\u001b[0m\u001b[0;34m)\u001b[0m\u001b[0;34m\u001b[0m\u001b[0m\n",
      "\u001b[0;31mNameError\u001b[0m: name 'Orbit' is not defined"
     ]
    }
   ],
   "source": [
    "m1 = m2 = 1.\n",
    "\n",
    "x1_0 = 5\n",
    "x2_0 = -5\n",
    "\n",
    "y1_0 = y2_0 = 0\n",
    "x1_dot_0 = x2_dot_0 = 0\n",
    "\n",
    "y1_dot_0 = .2\n",
    "y2_dot_0 = -m1 / m2 * y1_dot_0\n",
    "\n",
    "y0 = [x1_0, y1_0, x2_0, y2_0, x1_dot_0, y1_dot_0, x2_dot_0, y2_dot_0]\n",
    "\n",
    "orbit = Orbit(m1=m1, m2=m2)\n",
    "\n",
    "t_pts = np.arange(0, 120., 0.01)\n",
    "x1, y1, x2, y2, _, _, _, _ = orbit.solve_ode(t_pts, y0)\n",
    "\n",
    "fig = plt.figure()\n",
    "ax = fig.add_subplot(1,1,1)\n",
    "ax.plot(x1, y1, label=rf'$m_1 = {m1:.1f}$')\n",
    "ax.plot(x2, y2, label=rf'$m_2 = {m2:.1f}$')\n",
    "\n",
    "ax.set_title('Equal Masses')\n",
    "ax.set_xlabel('x')\n",
    "ax.set_ylabel('y')\n",
    "ax.legend(loc='lower left')"
   ]
  },
  {
   "cell_type": "code",
   "execution_count": 42,
   "metadata": {},
   "outputs": [
    {
     "data": {
      "text/plain": [
       "<matplotlib.legend.Legend at 0x15236b3fd0>"
      ]
     },
     "execution_count": 42,
     "metadata": {},
     "output_type": "execute_result"
    },
    {
     "data": {
      "image/png": "[encoded data removed]",
      "text/plain": [
       "<Figure size 432x288 with 1 Axes>"
      ]
     },
     "metadata": {
      "needs_background": "light"
     },
     "output_type": "display_data"
    }
   ],
   "source": [
    "m1 = 2.\n",
    "m2 = 1.\n",
    "\n",
    "ratio = -m1 / m2\n",
    "\n",
    "x1_0 = 5\n",
    "x2_0 = -5\n",
    "\n",
    "y1_0 = y2_0 = 0\n",
    "\n",
    "x1_dot_0 = x2_dot_0 = 0\n",
    "\n",
    "y1_dot_0 = .1\n",
    "y2_dot_0 = ratio * y1_dot_0\n",
    "\n",
    "y0 = [x1_0, y1_0, x2_0, y2_0, x1_dot_0, y1_dot_0, x2_dot_0, y2_dot_0]\n",
    "\n",
    "orbit = Orbit(m1=m1, m2=m2)\n",
    "\n",
    "t_pts = np.arange(0, 60., 0.01)\n",
    "x1, y1, x2, y2, _, _, _, _ = orbit.solve_ode(t_pts, y0)\n",
    "\n",
    "fig = plt.figure()\n",
    "ax = fig.add_subplot(1,1,1)\n",
    "ax.plot(x1, y1, label=rf'$m_1 = {m1:.1f}$')\n",
    "ax.plot(x2, y2, label=rf'$m_2 = {m2:.1f}$')\n",
    "\n",
    "ax.set_title('Unequal Masses')\n",
    "ax.set_xlabel('x')\n",
    "ax.set_ylabel('y')\n",
    "ax.legend(loc='lower left')"
   ]
  },
  {
   "cell_type": "markdown",
   "metadata": {},
   "source": [
    "# Massive Object\n",
    "\n",
    "In this section we will see what happens when one of the objects is massive compared to the other. We expect the massive object to not move as the light object orbits around it."
   ]
  },
  {
   "cell_type": "code",
   "execution_count": 44,
   "metadata": {},
   "outputs": [
    {
     "data": {
      "text/plain": [
       "<matplotlib.legend.Legend at 0x1524475978>"
      ]
     },
     "execution_count": 44,
     "metadata": {},
     "output_type": "execute_result"
    },
    {
     "data": {
      "image/png": "[encoded data removed]",
      "text/plain": [
       "<Figure size 432x288 with 1 Axes>"
      ]
     },
     "metadata": {
      "needs_background": "light"
     },
     "output_type": "display_data"
    }
   ],
   "source": [
    "m1 = 100.\n",
    "m2 = 1.\n",
    "\n",
    "ratio = -m1 / m2\n",
    "\n",
    "x1_0 = -10\n",
    "x2_0 = 10\n",
    "\n",
    "y1_0 = y2_0 = 0\n",
    "\n",
    "x1_dot_0 = x2_dot_0 = 0\n",
    "\n",
    "y1_dot_0 = .01\n",
    "y2_dot_0 = ratio * y1_dot_0\n",
    "\n",
    "y0 = [x1_0, y1_0, x2_0, y2_0, x1_dot_0, y1_dot_0, x2_dot_0, y2_dot_0]\n",
    "\n",
    "orbit = Orbit(m1=m1, m2=m2)\n",
    "\n",
    "t_pts = np.arange(0, 50., 0.01)\n",
    "x1, y1, x2, y2, _, _, _, _ = orbit.solve_ode(t_pts, y0)\n",
    "\n",
    "fig = plt.figure()\n",
    "ax = fig.add_subplot(1,1,1)\n",
    "ax.plot(x1, y1, label=rf'$m_1 = {m1:.1f}$')\n",
    "ax.plot(x2, y2, label=rf'$m_2 = {m2:.1f}$')\n",
    "\n",
    "ax.set_title('Superheavy Mass')\n",
    "ax.set_xlabel('x')\n",
    "ax.set_ylabel('y')\n",
    "ax.legend(loc='lower left')\n"
   ]
  },
  {
   "cell_type": "code",
   "execution_count": null,
   "metadata": {},
   "outputs": [],
   "source": []
  }
 ],
 "metadata": {
  "kernelspec": {
   "display_name": "Python 3",
   "language": "python",
   "name": "python3"
  },
  "language_info": {
   "codemirror_mode": {
    "name": "ipython",
    "version": 3
   },
   "file_extension": ".py",
   "mimetype": "text/x-python",
   "name": "python",
   "nbconvert_exporter": "python",
   "pygments_lexer": "ipython3",
   "version": "3.7.0"
  }
 },
 "nbformat": 4,
 "nbformat_minor": 2
}
