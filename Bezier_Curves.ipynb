{
 "cells": [
  {
   "cell_type": "markdown",
   "metadata": {},
   "source": [
    "# Bezier Curves\n",
    "\n",
    "Just to mess around I want to try and implement Bezier curves."
   ]
  },
  {
   "cell_type": "code",
   "execution_count": null,
   "metadata": {},
   "outputs": [],
   "source": [
    "import numpy as np\n",
    "import matplotlib.pyplot as plt\n",
    "\n",
    "from matplotlib import animation\n",
    "from IPython.display import HTML"
   ]
  },
  {
   "cell_type": "code",
   "execution_count": null,
   "metadata": {},
   "outputs": [],
   "source": [
    "def interpolate(p0, p1, t):\n",
    "    \"\"\"\n",
    "    Returns a lineraly interpolated point on the line defined by points p0 and p1.\n",
    "    The line l(t) is parameterized such that l(t=0) = p0 and l(t=1) = p1.\n",
    "    \n",
    "    Parameters\n",
    "    ==========\n",
    "    po : Point - The initial point of the line.\n",
    "    p1 : Point - The final point of the line.\n",
    "    t  : float        - Parameterization variable\n",
    "    \"\"\"\n",
    "    x0, y0 = p0.pos\n",
    "    x1, y1 = p1.pos\n",
    "    \n",
    "    x = (x1 - x0) * t + x0\n",
    "    y = (y1 - y0) * t + y0\n",
    "    \n",
    "    return (x, y)\n",
    "\n",
    "def points_to_lines(points):\n",
    "    \"\"\"\n",
    "    Takes a list of points and converts it into an x and y array, ready for plotting.\n",
    "    \n",
    "    Parameters\n",
    "    ==========\n",
    "    points : list of points [(x,y)] - The list of points to convert to lines such that\n",
    "                                      points[i], points[i+1] each define a new line\n",
    "    \"\"\"\n",
    "    if(isinstance(points[0], tuple)):\n",
    "        return list(map(lambda p: p[0], points)), list(map(lambda p: p[1], points))\n",
    "    else:\n",
    "        return list(map(lambda p: p.x(), points)), list(map(lambda p: p.y(), points))"
   ]
  },
  {
   "cell_type": "code",
   "execution_count": null,
   "metadata": {},
   "outputs": [],
   "source": [
    "class Point():\n",
    "    def __init__(self, pos, line_parent=None):\n",
    "        self.pos = pos\n",
    "        self.line_parent = line_parent\n",
    "        \n",
    "    def display(self, ax, color='gray', size=3, alpha=0.5):\n",
    "        self.marker, = ax.plot(*self.pos, 'o', color=color, markersize=size)\n",
    "        \n",
    "    def update(self, pos):\n",
    "        self.pos = pos\n",
    "        self.marker.set_data(pos)\n",
    "        \n",
    "    def x(self):\n",
    "        return self.pos[0]\n",
    "    \n",
    "    def y(self):\n",
    "        return self.pos[1]\n",
    "        \n",
    "    def __str__(self):\n",
    "        return str(self.pos)\n",
    "    \n",
    "    def __repr__(self):\n",
    "        return str(self.pos)\n",
    "\n",
    "class Line():\n",
    "    def __init__(self, p0, p1):\n",
    "        self.p0 = p0\n",
    "        self.p1 = p1\n",
    "    \n",
    "    def display(self, ax, color='gray', lw=1):\n",
    "        x_pts = [self.p0.x(), self.p1.x()]\n",
    "        y_pts = [self.p0.y(), self.p1.y()]\n",
    "\n",
    "        self.line, = ax.plot(x_pts, y_pts, color=color, lw=lw, alpha=0.5)\n",
    "        \n",
    "    def update(self):\n",
    "\n",
    "        self.line.set_data(points_to_lines([self.p0, self.p1]))\n",
    "        \n",
    "    def __str__(self):\n",
    "        return f'{self.p0} --> {self.p1}'\n",
    "    \n",
    "    def __repr__(self):\n",
    "        return f'{self.p0} --> {self.p1}'\n",
    "        \n",
    "        "
   ]
  },
  {
   "cell_type": "code",
   "execution_count": null,
   "metadata": {},
   "outputs": [],
   "source": [
    "class BezierCurve():\n",
    "    def __init__(self, points=[]):\n",
    "        self.points = []\n",
    "        self.lines = []\n",
    "        self.final_path_data = []\n",
    "        \n",
    "        for p in points:\n",
    "            self.add_point(p)\n",
    "            \n",
    "    def add_point(self, p, level=0):\n",
    "        if(level >= len(self.points)): \n",
    "            self.points.append([])\n",
    "            \n",
    "        self.points[level].append(Point(p))\n",
    "        \n",
    "        if(len(self.points[level]) > 1):\n",
    "            self.add_line(self.points[level][-2], self.points[level][-1], level=level)\n",
    "                    \n",
    "    def add_line(self, p0, p1, level=0):\n",
    "        if(level >= len(self.lines)):\n",
    "            self.lines.append([])\n",
    "            \n",
    "        self.lines[level].append(Line(p0, p1))\n",
    "        \n",
    "        pos = p0.pos\n",
    "        self.add_point(pos, level=level+1)\n",
    "    \n",
    "    def setup_plot(self):\n",
    "        self.fig = plt.figure()\n",
    "        self.ax = self.fig.add_subplot(1,1,1)\n",
    " \n",
    "        colors = ['gray', 'blue', 'orange', 'green', 'cyan', 'magenta', 'yellow']\n",
    "        \n",
    "        for level, points in enumerate(self.points):\n",
    "            for point in points:\n",
    "                if(level == len(self.points) - 1): \n",
    "                    point.display(self.ax, color='red', size=5, alpha=1)\n",
    "                    self.final_path_data.append(point.pos)\n",
    "                else:\n",
    "                    point.display(self.ax, color=colors[level % (len(self.points) - 2)])\n",
    "            \n",
    "        for level, lines in enumerate(self.lines):\n",
    "            for line in lines:\n",
    "                line.display(self.ax, color=colors[level % (len(self.points) - 2)])\n",
    "                \n",
    "        self.final_path_curve, = self.ax.plot(points_to_lines(self.final_path_data), color='red')\n",
    "\n",
    "    def next_frame(self, i):\n",
    "        for level, lines in enumerate(self.lines):\n",
    "            for index, line in enumerate(lines):\n",
    "                line.update()\n",
    "                \n",
    "                p0 = self.points[level][index]\n",
    "                p1 = self.points[level][index + 1]\n",
    "                \n",
    "                q = self.points[level + 1][index]\n",
    "                q.update(interpolate(p0, p1, i / (self.num_frames - 1)))\n",
    "                \n",
    "                if(level == len(self.lines) - 1):\n",
    "                    self.final_path_data.append(q.pos)\n",
    "        \n",
    "        self.final_path_curve.set_data(points_to_lines(self.final_path_data))\n",
    "            \n",
    "    def create_animation(self, num_frames=100):\n",
    "        self.num_frames = num_frames\n",
    "        frame_interval = 40\n",
    "\n",
    "        anim = animation.FuncAnimation(self.fig, \n",
    "                               self.next_frame, \n",
    "                               init_func=None,\n",
    "                               frames=num_frames, \n",
    "                               interval=frame_interval, \n",
    "                               blit=False,\n",
    "                               repeat=False)\n",
    "        \n",
    "        return anim"
   ]
  },
  {
   "cell_type": "code",
   "execution_count": null,
   "metadata": {},
   "outputs": [],
   "source": [
    "%%capture\n",
    "points = [(0,0), (10,5), (5,-10), (25,0), (40,2)]\n",
    "curve = BezierCurve(points)\n",
    "curve.setup_plot()\n",
    "anim = curve.create_animation(num_frames=100)"
   ]
  },
  {
   "cell_type": "code",
   "execution_count": null,
   "metadata": {},
   "outputs": [],
   "source": [
    "HTML(anim.to_jshtml())"
   ]
  },
  {
   "cell_type": "code",
   "execution_count": null,
   "metadata": {},
   "outputs": [],
   "source": [
    "%%capture\n",
    "points = [(0,0), (10,-10), (25,5), (5,15), (0,0)]\n",
    "curve = BezierCurve(points)\n",
    "curve.setup_plot()\n",
    "anim = curve.create_animation(num_frames=100)"
   ]
  },
  {
   "cell_type": "code",
   "execution_count": null,
   "metadata": {},
   "outputs": [],
   "source": [
    "HTML(anim.to_jshtml())"
   ]
  },
  {
   "cell_type": "code",
   "execution_count": null,
   "metadata": {},
   "outputs": [],
   "source": [
    "%%capture\n",
    "points = [(0,0), (5,10), (10,5), (15,-20), (20,-30), (30,0), (20,40), (15,0)]\n",
    "curve = BezierCurve(points)\n",
    "curve.setup_plot()\n",
    "anim = curve.create_animation(num_frames=100)"
   ]
  },
  {
   "cell_type": "code",
   "execution_count": null,
   "metadata": {},
   "outputs": [],
   "source": [
    "HTML(anim.to_jshtml())"
   ]
  },
  {
   "cell_type": "code",
   "execution_count": null,
   "metadata": {},
   "outputs": [],
   "source": []
  }
 ],
 "metadata": {
  "kernelspec": {
   "display_name": "Python 3",
   "language": "python",
   "name": "python3"
  },
  "language_info": {
   "codemirror_mode": {
    "name": "ipython",
    "version": 3
   },
   "file_extension": ".py",
   "mimetype": "text/x-python",
   "name": "python",
   "nbconvert_exporter": "python",
   "pygments_lexer": "ipython3",
   "version": "3.7.0"
  }
 },
 "nbformat": 4,
 "nbformat_minor": 2
}
