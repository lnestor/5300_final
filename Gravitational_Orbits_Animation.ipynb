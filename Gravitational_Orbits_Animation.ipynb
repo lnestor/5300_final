{
 "cells": [
  {
   "cell_type": "markdown",
   "metadata": {},
   "source": [
    "# Gravitational Orbits Animation\n",
    "\n",
    "Created 4-23-19 by Lucas Nestor  \n",
    "Revised 4-23-19 by Lucas Nestor"
   ]
  },
  {
   "cell_type": "markdown",
   "metadata": {},
   "source": [
    "In the last notebook we viewed path orbits of two masses in a plane. Here we will animate the masses around the orbit."
   ]
  },
  {
   "cell_type": "code",
   "execution_count": 1,
   "metadata": {},
   "outputs": [],
   "source": [
    "import numpy as np\n",
    "import matplotlib.pyplot as plt\n",
    "from scipy.integrate import solve_ivp\n",
    "\n",
    "from matplotlib import animation, rc\n",
    "from IPython.display import HTML"
   ]
  },
  {
   "cell_type": "code",
   "execution_count": 2,
   "metadata": {},
   "outputs": [],
   "source": [
    "%matplotlib inline"
   ]
  },
  {
   "cell_type": "code",
   "execution_count": 3,
   "metadata": {},
   "outputs": [],
   "source": [
    "class Orbit():\n",
    "    def __init__(self, m1=1, m2=1, G=1):\n",
    "        self.m1 = m1\n",
    "        self.m2 = m2\n",
    "        self.G = G\n",
    "    \n",
    "    def r12(self, y):\n",
    "        \"\"\"\n",
    "        Returns the relative distance between two particles.\n",
    "        \n",
    "        Parameters\n",
    "        ==========\n",
    "        y : float\n",
    "            a vector with y[0] = x1, y[1] = y1, y[2] = x2, y[3] = y2\n",
    "        \"\"\"\n",
    "        x1, y1, x2, y2 = y[0:4]\n",
    "        return np.sqrt((x1 - x2)**2 + (y1 - y2)**2)\n",
    "    \n",
    "    def dy_dt(self, t, y):\n",
    "        \"\"\"\n",
    "        Returns the RHS of the d^2x/dt^2 and d^2y/dt^2 for masses 1 and 2.\n",
    "        \n",
    "        Parameters\n",
    "        ==========\n",
    "        t : float\n",
    "            time\n",
    "        y : float\n",
    "            a vector with y[0] = x1, y[1] = y1, y[2] = x2, y[3] = y2\n",
    "            y[4] = dx1/dt, y[5] = dy1/dt, y[6] = dx2/dt, and y[7] = dy2/dt\n",
    "        \"\"\"\n",
    "        x1, y1, x2, y2 = y[0:4]\n",
    "        \n",
    "        dy_dt_vec = np.zeros(8)\n",
    "        dy_dt_vec[0:4] = y[4:8]\n",
    "        dy_dt_vec[4] = self.G * self.m2 * (x2 - x1) / self.r12(y)**3\n",
    "        dy_dt_vec[5] = self.G * self.m2 * (y2 - y1) / self.r12(y)**3\n",
    "        dy_dt_vec[6] = self.G * self.m1 * (x1 - x2) / self.r12(y)**3\n",
    "        dy_dt_vec[7] = self.G * self.m1 * (y1 - y2) / self.r12(y)**3\n",
    "        \n",
    "        return dy_dt_vec\n",
    "        \n",
    "    def solve_ode(self, t_pts, y_0, abserr=1.0e-10, relerr=1.0e-10):\n",
    "        return solve_ivp(self.dy_dt, (t_pts[0], t_pts[-1]), y_0, t_eval=t_pts, atol=abserr, rtol=relerr).y\n",
    "        "
   ]
  },
  {
   "cell_type": "code",
   "execution_count": null,
   "metadata": {},
   "outputs": [],
   "source": []
  }
 ],
 "metadata": {
  "kernelspec": {
   "display_name": "Python 3",
   "language": "python",
   "name": "python3"
  },
  "language_info": {
   "codemirror_mode": {
    "name": "ipython",
    "version": 3
   },
   "file_extension": ".py",
   "mimetype": "text/x-python",
   "name": "python",
   "nbconvert_exporter": "python",
   "pygments_lexer": "ipython3",
   "version": "3.7.0"
  }
 },
 "nbformat": 4,
 "nbformat_minor": 2
}
