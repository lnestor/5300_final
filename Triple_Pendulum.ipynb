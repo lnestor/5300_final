{
 "cells": [
  {
   "cell_type": "markdown",
   "metadata": {},
   "source": [
    "# Physics 5300 Final Problem Set - Triple Pendulum\n",
    "\n",
    "Created 4-24-19 by Lucas Nestor  \n",
    "Revised 4-24-19 by Lucas Nestor"
   ]
  },
  {
   "cell_type": "markdown",
   "metadata": {},
   "source": [
    "In this notebook we will extend our simulation of a double pendulum to a triple pendulum. To derive the Lagrangian, we will work in Cartesian coordinates. The coordinates of each mass are given below.\n",
    "\n",
    "$\\quad x_1 = L_1 \\sin(\\theta_1)$  \n",
    "$\\quad y_1 = -L_1 \\cos(\\theta_1)$\n",
    "\n",
    "$\\quad x_2 = L_1 \\sin(\\theta_1) + L_2 \\sin(\\theta_2)$  \n",
    "$\\quad y_2 = -L_1 \\cos(\\theta_1) - L_2 \\cos(\\theta_2)$\n",
    "\n",
    "$\\quad x_3 = L_1 \\sin(\\theta_1) + L_2 \\sin(\\theta_2) + L_3 \\sin(\\theta_3)$  \n",
    "$\\quad y_3 = -L_1 \\cos(\\theta_1) - L_2 \\cos(\\theta_2) - L_3 \\cos(\\theta_3)$\n",
    "\n",
    "Now we define the energies. Note that y is defined to be negative above.\n",
    "\n",
    "$\\quad T = \\frac{1}{2} m_1 (\\dot x_1^2 + \\dot y_1^2) + \\frac{1}{2} m_2 (\\dot x_2^2 + \\dot y_2^2) + \\frac{1}{2} m_3 (\\dot x_3^2 + \\dot y_3^2)$  \n",
    "$\\quad U = m_1 g y_1 + m_2 g y_2 + m_3 g y_3$\n",
    "\n",
    "Mathematica can solve these equations of motion, and I'll just put them into the code instead of also typing them here. My pinky hurts too much from doing so many underscores."
   ]
  },
  {
   "cell_type": "code",
   "execution_count": 1,
   "metadata": {},
   "outputs": [],
   "source": [
    "import numpy as np\n",
    "import matplotlib.pyplot as plt\n",
    "from scipy.integrate import solve_ivp"
   ]
  },
  {
   "cell_type": "code",
   "execution_count": 19,
   "metadata": {},
   "outputs": [],
   "source": [
    "class TriplePendulum():\n",
    "    def __init__(self, m1=1., m2=1., m3=1., L1=1., L2=1., L3=1., g=1.):\n",
    "        self.m1 = m1\n",
    "        self.m2 = m2\n",
    "        self.m3 = m3\n",
    "        self.L1 = L1\n",
    "        self.L2 = L2\n",
    "        self.L3 = L3\n",
    "        self.g = g\n",
    "        \n",
    "    def theta_1_double_dot(self, y):\n",
    "        theta_1, theta_2, theta_3, theta_1_dot, theta_2_dot, theta_3_dot = y\n",
    "        \n",
    "        first_term = self.m2 * (self.m2 + self.m3) \\\n",
    "            + self.m1 * (2 * self.m2 + self.m3) \\\n",
    "            - self.m1 * self.m3 * np.cos(2 * (theta_2 - theta_3))\n",
    "        second_term = self.g * self.m2 * (self.m2 + self.m3) * np.sin(theta_1 - 2 * theta_2)\n",
    "        third_term = (self.m2 + self.m3) * (self.L1 * np.cos(theta_1 - theta_2) * theta_1_dot**2 \\\n",
    "            + self.L2 * theta_2_dot**2)\n",
    "        fourth_term = self.L3 * self.m3 * np.cos(theta_2 - theta_3) * theta_3_dot**2\n",
    "        numerator = self.g * first_term * np.sin(theta_1) + second_term \\\n",
    "            + 2 * self.m2 * np.sin(theta_1 - theta_2) * (third_term + fourth_term)\n",
    "        \n",
    "        denominator = self.L1 * (self.m2 * (2 * self.m2 + self.m2) \\\n",
    "            + (self.m1 + self.m2) * self.m3 \\\n",
    "            - self.m2 * (self.m2 + self.m3) * np.cos(2 * (theta_1 - theta_2)) \\\n",
    "            - self.m1 * self.m3 * np.cos(2 * (theta_2 - theta_3)))\n",
    "        \n",
    "        return -numerator / denominator\n",
    "    \n",
    "    def theta_2_double_dot(self, y):\n",
    "        theta_1, theta_2, theta_3, theta_1_dot, theta_2_dot, theta_3_dot = y\n",
    "        \n",
    "        first_term = (2 * self.m2 * (self.m1 + self.m2) \\\n",
    "            + (self.m1 + 2 * (self.m2)) * self.m3) * np.sin(theta_1 - theta_2) \\\n",
    "            - self.m1 * self.m3 * np.sin(theta_1 + theta_2 - 2 * theta_3)\n",
    "        second_term = (2 * self.m2 * (self.m1 + self.m2) \\\n",
    "            + (self.m1 + 2 * self.m2) * self.m3) * np.sin(theta_1 - theta_2) \\\n",
    "            - self.m1 * self.m3 * np.sin(theta_1 + theta_2 - 2 * theta_3)\n",
    "        third_term = self.m2 * (self.m2 + self.m3) * np.sin(2 * (theta_1 - theta_2)) \\\n",
    "            - self.m1 * self.m3 * np.sin(2 * (theta_2 - theta_3))  \n",
    "        fourth_term = self.m2 * np.cos(theta_1 - theta_3) * np.sin(theta_1 - theta_2) \\\n",
    "            - self.m1 * np.sin(theta_2 - theta_3)\n",
    "        numerator = self.g * np.cos(theta_1) * first_term \\\n",
    "            + self.L1 * second_term * theta_1_dot**2 \\\n",
    "            + self.L2 * third_term * theta_2_dot**2 \\\n",
    "            + 2 * self.L3 * self.m3 * fourth_term * theta_3_dot**2\n",
    "        \n",
    "        denominator = self.L2 * (self.m2 * (2 * (self.m1 + self.m2) \\\n",
    "            + (self.m1 + self.m2) * self.m3 - self.m2 * (self.m2 + self.m3) * np.cos(2 * (theta_1 - theta_2))\\\n",
    "            - self.m1 * self.m3 * np.cos(2 * (theta_2 - theta_3))))\n",
    "        \n",
    "        return numerator / denominator\n",
    "    \n",
    "    def theta_3_double_dot(self, y):\n",
    "        theta_1, theta_2, theta_3, theta_1_dot, theta_2_dot, theta_3_dot = y\n",
    "        \n",
    "        first_term = np.cos(theta_1 - theta_2) * (self.g * np.cos(theta_1) + self.L1 * theta_1_dot**2) \\\n",
    "            + self.L2 * theta_2_dot**2\n",
    "        second_term = self.L3 * self.m3 * np.cos(theta_2 - theta_3) * theta_3_dot**2\n",
    "        numerator = 2 * self.m2 * np.sin(theta_2 - theta_3) * ((self.m2 + self.m3) * first_term + second_term)\n",
    "        \n",
    "        denominator = self.L3 * (self.m2 * (2 * self.m1 + self.m2) \\\n",
    "            + (self.m1 + self.m2) * self.m3 \\\n",
    "            - self.m2 * (self.m2 + self.m3) * np.cos(2 * (theta_1 - theta_2))\n",
    "            - self.m1 * self.m3 * np.cos(2 * (theta_2 - theta_3)))\n",
    "        \n",
    "        return numerator / denominator\n",
    "    \n",
    "    def dy_dt(self, t, y):\n",
    "        dy_dt_vec = np.zeros(6)\n",
    "        dy_dt_vec[0:3] = y[3:6]\n",
    "        dy_dt_vec[3] = self.theta_1_double_dot(y)\n",
    "        dy_dt_vec[4] = self.theta_2_double_dot(y)\n",
    "        dy_dt_vec[5] = self.theta_3_double_dot(y)\n",
    "        \n",
    "        return dy_dt_vec\n",
    "        \n",
    "    def solve_ode(self, t_pts, initial_conditions, abserr=1.0e-10, relerr=1.0e-10):\n",
    "        \"\"\"\n",
    "        Solves the motion for a given set of initial conditions.\n",
    "        \n",
    "        Parameters\n",
    "        ==========\n",
    "        t_pts : float\n",
    "                time\n",
    "        initial_conditions : float\n",
    "                             array in the form of [theta1, theta2, theta_3, theta1_dot, theta2_dot, theta3_dot]\n",
    "        abserr : float\n",
    "                 absolute error threshold\n",
    "        relerr : float\n",
    "                relative error threshold\n",
    "        \"\"\"\n",
    "        return solve_ivp(self.dy_dt, (t_pts[0], t_pts[-1]), initial_conditions, \n",
    "                         t_eval=t_pts, rtol=relerr, atol=abserr).y\n",
    "        "
   ]
  },
  {
   "cell_type": "code",
   "execution_count": 24,
   "metadata": {},
   "outputs": [
    {
     "data": {
      "text/plain": [
       "[<matplotlib.lines.Line2D at 0x151ed01cc0>]"
      ]
     },
     "execution_count": 24,
     "metadata": {},
     "output_type": "execute_result"
    },
    {
     "data": {
      "image/png": "[encoded data removed]",
      "text/plain": [
       "<Figure size 432x288 with 1 Axes>"
      ]
     },
     "metadata": {
      "needs_background": "light"
     },
     "output_type": "display_data"
    }
   ],
   "source": [
    "t_pts = np.arange(0., 120.0, 0.1)\n",
    "\n",
    "theta_1_0 = theta_2_0 = theta_3_0 = np.pi / 2\n",
    "theta_1_dot_0 = theta_2_dot_0 = theta_3_dot_0 = 0\n",
    "initial_conditions = [theta_1_0, theta_2_0, theta_3_0, theta_1_dot_0, theta_2_dot_0, theta_3_dot_0]\n",
    "\n",
    "pend = TriplePendulum()\n",
    "y = pend.solve_ode(t_pts, initial_conditions)\n",
    "\n",
    "fig = plt.figure()\n",
    "ax = fig.add_subplot(1,1,1)\n",
    "\n",
    "ax.plot(t_pts, y[0])\n",
    "ax.plot(t_pts, y[1])\n",
    "ax.plot(t_pts, y[2])"
   ]
  },
  {
   "cell_type": "code",
   "execution_count": null,
   "metadata": {},
   "outputs": [],
   "source": []
  }
 ],
 "metadata": {
  "kernelspec": {
   "display_name": "Python 3",
   "language": "python",
   "name": "python3"
  },
  "language_info": {
   "codemirror_mode": {
    "name": "ipython",
    "version": 3
   },
   "file_extension": ".py",
   "mimetype": "text/x-python",
   "name": "python",
   "nbconvert_exporter": "python",
   "pygments_lexer": "ipython3",
   "version": "3.7.0"
  }
 },
 "nbformat": 4,
 "nbformat_minor": 2
}
